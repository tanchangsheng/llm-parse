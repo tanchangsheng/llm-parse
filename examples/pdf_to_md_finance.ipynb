{
 "cells": [
  {
   "cell_type": "markdown",
   "metadata": {},
   "source": [
    "# Load PDFs into Markdown format - Finance Tables\n",
    "\n",
    "Loads a sample PDF document into Markdown format using the `PDF2MDParser` and `LlamaParseParser` to compare how each parser fares.\n",
    "\n",
    "The sample document is page 8 of [FY 2024 Analysis of Revenue and Expenditure](https://www.mof.gov.sg/docs/librariesprovider3/budget2024/download/pdf/fy2024_analysis_of_revenue_and_expenditure.pdf) from the Ministry of Finance of Singapore. It contains a typical table that can be found in financial documents.\n",
    "\n",
    "<a target=\"_blank\" href=\"https://colab.research.google.com/github/tanchangsheng/llm-parse/blob/main/examples/pdf_to_md_finance.ipynb\">\n",
    "  <img src=\"https://colab.research.google.com/assets/colab-badge.svg\" alt=\"Open In Colab\"/>\n",
    "</a>"
   ]
  },
  {
   "cell_type": "code",
   "execution_count": 1,
   "metadata": {},
   "outputs": [
    {
     "name": "stdout",
     "output_type": "stream",
     "text": [
      "\n",
      "\u001b[1m[\u001b[0m\u001b[34;49mnotice\u001b[0m\u001b[1;39;49m]\u001b[0m\u001b[39;49m A new release of pip is available: \u001b[0m\u001b[31;49m23.3.1\u001b[0m\u001b[39;49m -> \u001b[0m\u001b[32;49m24.0\u001b[0m\n",
      "\u001b[1m[\u001b[0m\u001b[34;49mnotice\u001b[0m\u001b[1;39;49m]\u001b[0m\u001b[39;49m To update, run: \u001b[0m\u001b[32;49mpip install --upgrade pip\u001b[0m\n"
     ]
    }
   ],
   "source": [
    "!pip install llm-parse==0.1.3 --quiet"
   ]
  },
  {
   "cell_type": "code",
   "execution_count": 2,
   "metadata": {},
   "outputs": [],
   "source": [
    "from llm_parse.pdf_2_md_parser import PDF2MDParser\n",
    "\n",
    "parser = PDF2MDParser()\n",
    "text = parser.load_data(\"sample_files/fy2024_analysis_of_revenue_and_expenditure_table.pdf\")\n"
   ]
  },
  {
   "cell_type": "code",
   "execution_count": 3,
   "metadata": {},
   "outputs": [
    {
     "data": {
      "text/markdown": [
       "\n",
       "\n",
       "# Table 1.1\n",
       "# Fiscal Position in FY2022 and FY2023\n",
       "\n",
       "BLANK **Revised FY2023**\n",
       "\n",
       "BLANK **Actual** **Estimated** **Revised** **Compared to**\n",
       "\n",
       "BLANK **FY2022** **FY2023** **FY2023** **Actual** **Estimated**\n",
       "\n",
       "BLANK **FY2022** **FY2023**\n",
       "\n",
       "BLANK **$billion** **$billion** **$billion** **% change** **% change**\n",
       "\n",
       "**OPERATING REVENUE 91.01 96.70 104.30 14.6 7.9**\n",
       "\n",
       "Corporate Income Tax 23.07 24.26 28.38 23.0 17.0\n",
       "\n",
       "Personal Income Tax 15.52 16.84 17.53 12.9 4.1\n",
       "\n",
       "Withholding Tax 2.11 2.21 2.19 3.8 (1.2)\n",
       "\n",
       "Statutory Boards' Contributions 1.45 0.57 0.75 (48.4) 32.1\n",
       "\n",
       "Assets Taxes 5.10 5.55 5.92 16.1 6.7\n",
       "\n",
       "Customs, Excise and Carbon Taxes 3.46 3.73 3.40 (1.8) (8.8)\n",
       "\n",
       "Goods and Services Tax 14.09 17.38 16.36 16.1 (5.8)\n",
       "\n",
       "Motor Vehicle Taxes 2.16 2.54 2.60 20.0 2.3\n",
       "\n",
       "Vehicle Quota Premiums 3.76 3.88 4.66 23.9 20.1\n",
       "\n",
       "Betting Taxes 2.77 2.84 3.15 13.9 10.8\n",
       "\n",
       "Stamp Duty 5.95 5.75 5.92 (0.6) 3.0\n",
       "\n",
       "Other Taxes 1 7.02 6.63 8.78 25.0 32.3\n",
       "\n",
       "Fees and Charges (excluding Vehicle Quota Premiums) 3.95 3.95 4.07 3.0 3.0\n",
       "\n",
       "Others 0.60 0.58 0.61 2.2 5.5\n",
       "\n",
       "Less: - -\n",
       "\n",
       "**TOTAL EXPENDITURE 104.86 104.15 106.89 1.9 2.6**\n",
       "\n",
       "Operating Expenditure 84.44 83.62 85.36 1.1 2.1\n",
       "\n",
       "Development Expenditure 20.42 20.52 21.52 5.4 4.9\n",
       "\n",
       "**PRIMARY SURPLUS / DEFICIT** **(13.84)** **(7.45)** **(2.59)** \n",
       "\n",
       "Less: \n",
       "\n",
       "**SPECIAL TRANSFERS** 2 **8.94** **19.58** **27.17** **203.9** **38.7**\n",
       "\n",
       "**Special Transfers Excluding Top-ups to Endowment and Trust Funds** **2.69** **2.76** **2.85** \n",
       "\n",
       "COL Special Payment 1.02 1.33 1.55 \n",
       "\n",
       "CDC Vouchers 0.39 0.60 0.64 \n",
       "\n",
       "Other Transfers 3 1.28 0.84 0.66 \n",
       "\n",
       "**BASIC SURPLUS / DEFICIT** **(16.53)** **(10.21)** **(5.44)** \n",
       "\n",
       "**Top-ups to Endowment and Trust Funds** **6.25** **16.82** **24.32** \n",
       "\n",
       "Majulah Package Fund - - 7.50 \n",
       "\n",
       "National Productivity Fund - 4.00 4.00 \n",
       "\n",
       "GST Voucher Fund 2.40 2.40 2.40 \n",
       "\n",
       "Progressive Wage Credit Scheme Fund 2.80 2.40 2.40 \n",
       "\n",
       "Top-ups to Endowment Funds 4 - 2.30 2.30 \n",
       "\n",
       "Other Funds 5 1.05 5.72 5.72 \n",
       "\n",
       "Add: 22,376, 23,480,570, 22,915, 0 \n",
       "\n",
       "**NET INVESTMENT RETURNS CONTRIBUTION 22.38 23.48 22.92 2.4 (2.4)**\n",
       "\n",
       "**OVERALL BUDGET SURPLUS / DEFICIT** **(0.41)** **(3.55)** **(6.84)** \n",
       "\n",
       "Add: \n",
       "\n",
       "**CAPITALISATION OF NATIONALLY SIGNIFICANT INFRASTRUCTURE 2.21 3.53 3.49 58.1 (0.9)**\n",
       "\n",
       "Less: \n",
       "\n",
       "**DEPRECIATION OF NATIONALLY SIGNIFICANT INFRASTRUCTURE - - - - -**\n",
       "\n",
       "**SINGA INTEREST COSTS AND LOAN EXPENSES** 6 **0.09** **0.33** **0.23** **152.4** **(32.0)**\n",
       "\n",
       "**OVERALL FISCAL POSITION** **1.72** **(0.35)** **(3.57)** \n",
       "\n",
       "Note: Figures may not add up due to rounding. Negative figures are shown in parentheses.\n",
       "\n",
       "1 Other Taxes include the Foreign Worker Levy, Water Conservation Tax, Land Betterment Charge and Annual Tonnage Tax.\n",
       "\n",
       "2 Special Transfers including Top-ups to Endowment and Trust Funds.\n",
       "\n",
       "3 Includes GST Voucher Special Payment, Top-ups to Edusave, Post-Secondary Education and Child Development Accounts, CPF MediSave Top-ups,\n",
       "CPF Transition Offset, S&CC Rebates, Jobs Support Scheme, Top-ups to self-help groups, Rental Support Scheme, Workfare Special Bonus, Passion\n",
       "Card Top-ups, Wage Credit Scheme, Productivity and Innovation Credit, Household Utilities Credit, Cash Grant to Mitigate Rental Costs, Self-\n",
       "Employed Persons Income Relief Scheme, Cash Rebate for School Buses, Grocery Vouchers.\n",
       "\n",
       "4 Consists of Medical Endowment Fund, ElderCare Fund and Community Care Endowment Fund.\n",
       "\n",
       "5 Consists of Changi Airport Development Fund, Trust Fund for the Employment Credit Schemes, National Research Fund, Community Silver Trust\n",
       "Fund, Cultural Matching Fund and Public Transport Fund.\n",
       "\n",
       "6 SINGA Interest Costs and Loan Expenses include the annual effective interest costs (which is computed based on the yield to maturity multiplied by\n",
       "the face value of the bond) and other ancillary loan expenses incurred in connection with the SINGA. It excludes principal repayment and transfer of\n",
       "loan discount to Development Fund. It is different from the Debt Servicing and Related Costs presented in the Expenditure Estimates and Annex to\n",
       "Expenditure Estimates for Head Y.\n",
       "\n",
       "# 8\n",
       "\n",
       "# MINISTRY OF FINANCE\n",
       "\n",
       "-----\n",
       "\n"
      ],
      "text/plain": [
       "<IPython.core.display.Markdown object>"
      ]
     },
     "execution_count": 3,
     "metadata": {},
     "output_type": "execute_result"
    }
   ],
   "source": [
    "import IPython\n",
    "\n",
    "IPython.display.Markdown(text)"
   ]
  },
  {
   "cell_type": "code",
   "execution_count": 4,
   "metadata": {},
   "outputs": [
    {
     "name": "stdout",
     "output_type": "stream",
     "text": [
      "Started parsing the file under job_id 20afb366-1031-42e0-b6b8-28ee937536b9\n"
     ]
    }
   ],
   "source": [
    "import nest_asyncio\n",
    "nest_asyncio.apply()\n",
    "\n",
    "from llm_parse.llamaparse_parser import LlamaParseParser\n",
    "\n",
    "parser = LlamaParseParser(\n",
    "    api_key=\"llx-...\",\n",
    "    result_type=\"markdown\"\n",
    ")\n",
    "text = parser.load_data(\"sample_files/fy2024_analysis_of_revenue_and_expenditure_table.pdf\")"
   ]
  },
  {
   "cell_type": "code",
   "execution_count": 5,
   "metadata": {},
   "outputs": [
    {
     "data": {
      "text/markdown": [
       "## Fiscal Position in FY2022 and FY2023\n",
       "\n",
       "| |Revised FY2023| | | |\n",
       "|---|---|---|---|---|\n",
       "| |Actual|Estimated|Revised FY2023|Compared to Actual|Compared to Estimated|\n",
       "| |$billion|$billion|$billion|% change|% change|\n",
       "|OPERATING REVENUE|91.01|96.70|104.30|14.6|7.9|\n",
       "|Corporate Income Tax|23.07|24.26|28.38|23.0|17.0|\n",
       "|Personal Income Tax|15.52|16.84|17.53|12.9|4.1|\n",
       "|Withholding Tax|2.11|2.21|2.19|3.8|(1.2)|\n",
       "|Statutory Boards' Contributions|1.45|0.57|0.75|(48.4)|32.1|\n",
       "|Assets Taxes|5.10|5.55|5.92|16.1|6.7|\n",
       "|Customs, Excise and Carbon Taxes|3.46|3.73|3.40|(1.8)|(8.8)|\n",
       "|Goods and Services Tax|14.09|17.38|16.36|16.1|(5.8)|\n",
       "|Motor Vehicle Taxes|2.16|2.54|2.60|20.0|2.3|\n",
       "|Vehicle Quota Premiums|3.76|3.88|4.66|23.9|20.1|\n",
       "|Betting Taxes|2.77|2.84|3.15|13.9|10.8|\n",
       "|Stamp Duty|5.95|5.75|5.92|(0.6)|3.0|\n",
       "|Other Taxes 1|7.02|6.63|8.78|25.0|32.3|\n",
       "|Fees and Charges (excluding Vehicle Quota Premiums)|3.95|3.95|4.07|3.0|3.0|\n",
       "|Others|0.60|0.58|0.61|2.2|5.5|\n",
       "|Less:|-|-|-|-|-|\n",
       "|TOTAL EXPENDITURE|104.86|104.15|106.89|1.9|2.6|\n",
       "|Operating Expenditure|84.44|83.62|85.36|1.1|2.1|\n",
       "|Development Expenditure|20.42|20.52|21.52|5.4|4.9|\n",
       "|PRIMARY SURPLUS / DEFICIT|(13.84)|(7.45)|(2.59)| | |\n",
       "|Less:| | | | | |\n",
       "|SPECIAL TRANSFERS 2|8.94|19.58|27.17|203.9|38.7|\n",
       "|Special Transfers Excluding Top-ups to Endowment and Trust Funds|2.69|2.76|2.85| | |\n",
       "|COL Special Payment|1.02|1.33|1.55| | |\n",
       "|CDC Vouchers|0.39|0.60|0.64| | |\n",
       "|Other Transfers 3|1.28|0.84|0.66| | |\n",
       "|BASIC SURPLUS / DEFICIT|(16.53)|(10.21)|(5.44)| | |\n",
       "|Top-ups to Endowment and Trust Funds|6.25|16.82|24.32| | |\n",
       "|Majulah Package Fund|-|-|7.50| | |\n",
       "|National Productivity Fund|-|4.00|4.00| | |\n",
       "|GST Voucher Fund|2.40|2.40|2.40| | |\n",
       "|Progressive Wage Credit Scheme Fund|2.80|2.40|2.40| | |\n",
       "|Top-ups to Endowment Funds 4|-|2.30|2.30| | |\n",
       "|Other Funds 5|1.05|5.72|5.72| | |\n",
       "|Add:| | | | | |\n",
       "|NET INVESTMENT RETURNS CONTRIBUTION|22.38|23.48|22.92|2.4|(2.4)|\n",
       "|OVERALL BUDGET SURPLUS / DEFICIT|(0.41)|(3.55)|(6.84)| | |\n",
       "|Add:| | | | | |\n",
       "|CAPITALISATION OF NATIONALLY SIGNIFICANT INFRASTRUCTURE|2.21|3.53|3.49|58.1|(0.9)|\n",
       "|Less:| | | | | |\n",
       "|DEPRECIATION OF NATIONALLY SIGNIFICANT INFRASTRUCTURE|-|-|-| | |\n",
       "|SINGA INTEREST COSTS AND LOAN EXPENSES 6|0.09|0.33|0.23|152.4|(32.0)|\n",
       "|OVERALL FISCAL POSITION|1.72|(0.35)|(3.57)| | |\n",
       "\n",
       "Note: Figures may not add up due to rounding. Negative figures are shown in parentheses.\n",
       "\n",
       "1. Other Taxes include the Foreign Worker Levy, Water Conservation Tax, Land Betterment Charge, and Annual Tonnage Tax.\n",
       "\n",
       "2. Special Transfers including Top-ups to Endowment and Trust Funds.\n",
       "\n",
       "3. Includes GST Voucher Special Payment, Top-ups to Edusave, Post-Secondary Education and Child Development Accounts, CPF MediSave Top-ups, CPF Transition Offset, S&CC Rebates, Jobs Support Scheme, Top-ups to self-help groups, Rental Support Scheme, Workfare Special Bonus, Passion Card Top-ups, Wage Credit Scheme, Productivity and Innovation Credit, Household Utilities Credit, Cash Grant to Mitigate Rental Costs, Self-Employed Persons Income Relief Scheme, Cash Rebate for School Buses, Grocery Vouchers.\n",
       "\n",
       "4. Consists of Medical Endowment Fund, ElderCare Fund, and Community Care Endowment Fund.\n",
       "\n",
       "5. Consists of Changi Airport Development Fund, Trust Fund for the Employment Credit Schemes, National Research Fund, Community Silver Trust Fund, Cultural Matching Fund, and Public Transport Fund.\n",
       "\n",
       "6. SINGA Interest Costs and Loan Expenses include the annual effective interest costs (which is computed based on the yield to maturity multiplied by the face value of the bond) and other ancillary loan expenses incurred in connection with the SINGA. It excludes principal repayment and transfer of loan discount to Development Fund. It is different from the Debt Servicing and Related Costs presented in the Expenditure Estimates and Annex to Expenditure Estimates for Head Y.\n",
       "\n",
       "## MINISTRY OF FINANCE"
      ],
      "text/plain": [
       "<IPython.core.display.Markdown object>"
      ]
     },
     "execution_count": 5,
     "metadata": {},
     "output_type": "execute_result"
    }
   ],
   "source": [
    "# Markdown table does not render properly on Github. Colab/Jupyter notebook will render the table properly.\n",
    "IPython.display.Markdown(text)"
   ]
  },
  {
   "cell_type": "code",
   "execution_count": null,
   "metadata": {},
   "outputs": [],
   "source": []
  },
  {
   "cell_type": "code",
   "execution_count": null,
   "metadata": {},
   "outputs": [],
   "source": []
  },
  {
   "cell_type": "code",
   "execution_count": null,
   "metadata": {},
   "outputs": [],
   "source": []
  }
 ],
 "metadata": {
  "kernelspec": {
   "display_name": "llm-parse-mDb_WNgs-py3.10",
   "language": "python",
   "name": "python3"
  },
  "language_info": {
   "codemirror_mode": {
    "name": "ipython",
    "version": 3
   },
   "file_extension": ".py",
   "mimetype": "text/x-python",
   "name": "python",
   "nbconvert_exporter": "python",
   "pygments_lexer": "ipython3",
   "version": "3.10.13"
  }
 },
 "nbformat": 4,
 "nbformat_minor": 2
}
